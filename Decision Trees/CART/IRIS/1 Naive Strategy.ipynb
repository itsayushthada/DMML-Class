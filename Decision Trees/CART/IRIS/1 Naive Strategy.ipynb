{
 "cells": [
  {
   "cell_type": "code",
   "execution_count": 1,
   "metadata": {},
   "outputs": [],
   "source": [
    "from sklearn.datasets import load_iris\n",
    "import pandas as pd\n",
    "import numpy as np\n",
    "from collections import Counter\n",
    "from sklearn.model_selection import train_test_split\n",
    "import matplotlib.pyplot as plt"
   ]
  },
  {
   "cell_type": "code",
   "execution_count": 2,
   "metadata": {},
   "outputs": [
    {
     "data": {
      "text/html": [
       "<div>\n",
       "<style scoped>\n",
       "    .dataframe tbody tr th:only-of-type {\n",
       "        vertical-align: middle;\n",
       "    }\n",
       "\n",
       "    .dataframe tbody tr th {\n",
       "        vertical-align: top;\n",
       "    }\n",
       "\n",
       "    .dataframe thead th {\n",
       "        text-align: right;\n",
       "    }\n",
       "</style>\n",
       "<table border=\"1\" class=\"dataframe\">\n",
       "  <thead>\n",
       "    <tr style=\"text-align: right;\">\n",
       "      <th></th>\n",
       "      <th>sepal_length</th>\n",
       "      <th>sepal_width</th>\n",
       "      <th>petal_length</th>\n",
       "      <th>petal_width</th>\n",
       "      <th>type</th>\n",
       "    </tr>\n",
       "  </thead>\n",
       "  <tbody>\n",
       "    <tr>\n",
       "      <th>0</th>\n",
       "      <td>5.1</td>\n",
       "      <td>3.5</td>\n",
       "      <td>1.4</td>\n",
       "      <td>0.2</td>\n",
       "      <td>0</td>\n",
       "    </tr>\n",
       "    <tr>\n",
       "      <th>1</th>\n",
       "      <td>4.9</td>\n",
       "      <td>3.0</td>\n",
       "      <td>1.4</td>\n",
       "      <td>0.2</td>\n",
       "      <td>0</td>\n",
       "    </tr>\n",
       "    <tr>\n",
       "      <th>2</th>\n",
       "      <td>4.7</td>\n",
       "      <td>3.2</td>\n",
       "      <td>1.3</td>\n",
       "      <td>0.2</td>\n",
       "      <td>0</td>\n",
       "    </tr>\n",
       "    <tr>\n",
       "      <th>3</th>\n",
       "      <td>4.6</td>\n",
       "      <td>3.1</td>\n",
       "      <td>1.5</td>\n",
       "      <td>0.2</td>\n",
       "      <td>0</td>\n",
       "    </tr>\n",
       "    <tr>\n",
       "      <th>4</th>\n",
       "      <td>5.0</td>\n",
       "      <td>3.6</td>\n",
       "      <td>1.4</td>\n",
       "      <td>0.2</td>\n",
       "      <td>0</td>\n",
       "    </tr>\n",
       "  </tbody>\n",
       "</table>\n",
       "</div>"
      ],
      "text/plain": [
       "   sepal_length  sepal_width  petal_length  petal_width  type\n",
       "0           5.1          3.5           1.4          0.2     0\n",
       "1           4.9          3.0           1.4          0.2     0\n",
       "2           4.7          3.2           1.3          0.2     0\n",
       "3           4.6          3.1           1.5          0.2     0\n",
       "4           5.0          3.6           1.4          0.2     0"
      ]
     },
     "execution_count": 2,
     "metadata": {},
     "output_type": "execute_result"
    }
   ],
   "source": [
    "iris = load_iris()\n",
    "\n",
    "df = pd.DataFrame(data = np.hstack([iris[\"data\"], iris[\"target\"].reshape(-1, 1)]), \n",
    "             columns = [x[:-5].replace(\" \", \"_\") for x in iris[\"feature_names\"]] + [\"type\"])\n",
    "\n",
    "df[\"type\"] = np.int32(df[\"type\"])\n",
    "\n",
    "del iris\n",
    "\n",
    "df.head()"
   ]
  },
  {
   "cell_type": "code",
   "execution_count": 3,
   "metadata": {},
   "outputs": [
    {
     "data": {
      "text/plain": [
       "150"
      ]
     },
     "execution_count": 3,
     "metadata": {},
     "output_type": "execute_result"
    }
   ],
   "source": [
    "len(df)"
   ]
  },
  {
   "cell_type": "markdown",
   "metadata": {},
   "source": [
    "### Splitting Data"
   ]
  },
  {
   "cell_type": "code",
   "execution_count": 4,
   "metadata": {},
   "outputs": [],
   "source": [
    "train_size = 0.7"
   ]
  },
  {
   "cell_type": "code",
   "execution_count": 5,
   "metadata": {},
   "outputs": [],
   "source": [
    "train_idx = np.random.choice([True, False], len(df), p=[train_size, 1-train_size])"
   ]
  },
  {
   "cell_type": "code",
   "execution_count": 6,
   "metadata": {},
   "outputs": [
    {
     "name": "stdout",
     "output_type": "stream",
     "text": [
      "(103, 4)\n",
      "(103,)\n",
      "(47, 4)\n",
      "(47,)\n"
     ]
    }
   ],
   "source": [
    "X = df[['sepal_length', 'sepal_width', 'petal_length', 'petal_width']].values\n",
    "Y = df[\"type\"].values\n",
    "\n",
    "x_train, x_test, y_train, y_test = X[train_idx], X[~train_idx], Y[train_idx], Y[~train_idx]\n",
    "\n",
    "print(x_train.shape)\n",
    "print(y_train.shape)\n",
    "print(x_test.shape)\n",
    "print(y_test.shape)"
   ]
  },
  {
   "cell_type": "markdown",
   "metadata": {},
   "source": [
    "## Utility Functions"
   ]
  },
  {
   "cell_type": "code",
   "execution_count": 7,
   "metadata": {},
   "outputs": [],
   "source": [
    "def entropy(x):\n",
    "    p = np.array(list(Counter(x).values()))\n",
    "    p = p/np.sum(p)\n",
    "    return -np.sum(np.log2(p)*p)"
   ]
  },
  {
   "cell_type": "code",
   "execution_count": 8,
   "metadata": {},
   "outputs": [],
   "source": [
    "info_gain = lambda x, ys: entropy(x) - sum([sum(y)*entropy(x[y])/len(x) for y in ys])"
   ]
  },
  {
   "cell_type": "code",
   "execution_count": 9,
   "metadata": {},
   "outputs": [],
   "source": [
    "class Tree:\n",
    "    def __init__(self, bins = 5, depth=3):\n",
    "        self.head = None\n",
    "        self.arg_value = None\n",
    "        self.children = []\n",
    "        self.bins = bins\n",
    "        self.depth = depth\n",
    "    \n",
    "    def fit(self, X, Y):\n",
    "        n = len(Y)-1\n",
    "        best_arg = 0\n",
    "        arg_val = None\n",
    "        gain = -1\n",
    "\n",
    "        # Iterating Over all Parameters\n",
    "        for x in range(X.shape[1]):\n",
    "            # Quantiles based bins\n",
    "            bins = np.insert(np.arange(1/(self.bins-1), 1, 1/(self.bins-1)), [0, self.bins-2], [0,-1])\n",
    "            bins[:-1] = np.ceil(n*bins[:-1])\n",
    "            bins = np.sort(X[:, x])[bins.astype(np.int32)]\n",
    "        \n",
    "            # Calculating Informtion Gain for Each Split.\n",
    "            for i in range(len(bins)-1):\n",
    "                p_gain = info_gain(Y, [bins[i]<=Y, Y<bins[i+1]])\n",
    "                \n",
    "                if gain < p_gain:\n",
    "                    gain = p_gain\n",
    "                    best_arg = x\n",
    "                    arg_val = bins[i+1]\n",
    "\n",
    "        self.head = best_arg\n",
    "        self.arg_value = arg_val\n",
    "        if self.depth > 1:\n",
    "            self.children = [Tree(depth=self.depth-1), Tree(depth=self.depth-1)]\n",
    "            idx = X[:, best_arg]<arg_val\n",
    "            self.children[0].fit(X[idx], Y[idx])\n",
    "            self.children[1].fit(X[~idx], Y[~idx])"
   ]
  },
  {
   "cell_type": "markdown",
   "metadata": {},
   "source": [
    "## Model Construction"
   ]
  },
  {
   "cell_type": "code",
   "execution_count": 10,
   "metadata": {},
   "outputs": [],
   "source": [
    "obj = Tree(bins=5)"
   ]
  },
  {
   "cell_type": "code",
   "execution_count": 11,
   "metadata": {},
   "outputs": [],
   "source": [
    "obj.fit(x_train, y_train)"
   ]
  },
  {
   "cell_type": "markdown",
   "metadata": {},
   "source": [
    "## Model Visualization"
   ]
  },
  {
   "cell_type": "markdown",
   "metadata": {},
   "source": [
    "I've wriiten code for a binary decision tree. So each left child operates on values samller than argument value shown in title and right child operates on values greater or equal to argument value shown in title. The hierarchy is as follow\n",
    "\n",
    "$$\\text{Parent}$$\n",
    "$$\\big/ \\ \\ \\setminus $$\n",
    "$$\\text{Child 1}\\ \\ \\ \\ \\ \\ \\ \\ \\text{Child 2}$$\n",
    "$$\\big/ \\ \\ \\ \\ \\ \\ \\ \\ \\setminus \\ \\ \\ \\ \\ \\  \\big/ \\ \\ \\ \\ \\ \\ \\ \\ \\setminus$$\n",
    "$$\\text{GC 11}\\ \\ \\ \\text{GC 12}\\ \\ \\ \\text{GC 21}\\ \\ \\ \\text{GC 22}$$\n",
    "\n",
    "\n",
    "\n",
    "Here decison boundry of each child is reprented by a different colour."
   ]
  },
  {
   "cell_type": "code",
   "execution_count": 12,
   "metadata": {},
   "outputs": [],
   "source": [
    "cols = df.columns"
   ]
  },
  {
   "cell_type": "code",
   "execution_count": 13,
   "metadata": {},
   "outputs": [
    {
     "data": {
      "text/plain": [
       "{'sepal_length': [4.3, 7.9],\n",
       " 'sepal_width': [2.3, 4.4],\n",
       " 'petal_length': [1.0, 6.7],\n",
       " 'petal_width': [0.1, 2.5]}"
      ]
     },
     "execution_count": 13,
     "metadata": {},
     "output_type": "execute_result"
    }
   ],
   "source": [
    "range_dict = {x: [y, z] for x,y,z in zip(cols, x_train.min(axis=0), x_train.max(axis=0))}\n",
    "range_dict"
   ]
  },
  {
   "cell_type": "code",
   "execution_count": 14,
   "metadata": {},
   "outputs": [],
   "source": [
    "def decison_tree_seq(arg_idx, arg_val, col, ls, fig=None, ax=None):\n",
    "    \"\"\"\n",
    "    Function to Sequnetailly plot each decsion boundry of a Decison Tree.\n",
    "    Solid circle points represent training data.\n",
    "    Transaprent + points represent test data.\n",
    "    The colour of the plot title is same as the colour of decsion boundry introduced by the node in tree.\n",
    "    Plot title contain name of attribute and threshold for which data is divide into binary bins.\n",
    "    \"\"\"\n",
    "    \n",
    "    if fig is None or ax is None:\n",
    "        fig, ax = plt.subplots(2, 3, figsize=(20, 8))\n",
    "        \n",
    "        comb = [[(\"sepal_length\", \"sepal_width\"), (\"sepal_length\", \"petal_length\"), (\"sepal_length\", \"petal_width\")],\n",
    "                [(\"sepal_width\", \"petal_length\"), (\"sepal_width\", \"petal_width\"), (\"petal_length\", \"petal_width\")]]\n",
    "        \n",
    "        train = df[train_idx]\n",
    "        test = df[~train_idx]\n",
    "        \n",
    "        for i in range(2):\n",
    "            for j in range(3):\n",
    "                ax[i,j].scatter(train[comb[i][j][0]], train[comb[i][j][1]], c=train[\"type\"])\n",
    "                ax[i,j].scatter(test[comb[i][j][0]], test[comb[i][j][1]], c=test[\"type\"], marker=\"+\", alpha=0.5)\n",
    "                ax[i,j].set_xlabel(\" \".join(list(map(lambda x: x.capitalize(), comb[i][j][0].split(\"_\")))))\n",
    "                ax[i,j].set_ylabel(\" \".join(list(map(lambda x: x.capitalize(), comb[i][j][1].split(\"_\")))))\n",
    "        \n",
    "        \n",
    "    arg_name = cols[arg_idx]\n",
    "    fig.suptitle((arg_name, arg_val), color=col)\n",
    "    \n",
    "    if arg_name == \"sepal_length\":\n",
    "        ax[0,0].plot([arg_val, arg_val], range_dict[\"sepal_width\"], color=col, linestyle=ls)\n",
    "        ax[0,1].plot([arg_val, arg_val], range_dict[\"petal_length\"], color=col, linestyle=ls)\n",
    "        ax[0,2].plot([arg_val, arg_val], range_dict[\"petal_width\"], color=col, linestyle=ls)\n",
    "        \n",
    "    elif arg_name == \"sepal_width\":\n",
    "        ax[0,0].plot(range_dict[\"sepal_length\"], [arg_val, arg_val], color=col, linestyle=ls)\n",
    "        ax[1,0].plot([arg_val, arg_val], range_dict[\"petal_length\"], color=col, linestyle=ls)\n",
    "        ax[1,1].plot([arg_val, arg_val], range_dict[\"petal_width\"], color=col, linestyle=ls)\n",
    "        \n",
    "    elif arg_name == \"petal_length\":\n",
    "        ax[0,1].plot(range_dict[\"sepal_length\"], [arg_val, arg_val], color=col, linestyle=ls)\n",
    "        ax[1,0].plot(range_dict[\"sepal_width\"], [arg_val, arg_val], color=col, linestyle=ls)\n",
    "        ax[1,2].plot([arg_val, arg_val], range_dict[\"petal_width\"], color=col, linestyle=ls)\n",
    "        \n",
    "    else:#if arg_name == \"petal_width\":\n",
    "        ax[0,2].plot(range_dict[\"sepal_length\"], [arg_val, arg_val], color=col, linestyle=ls)\n",
    "        ax[1,1].plot(range_dict[\"sepal_width\"], [arg_val, arg_val], color=col, linestyle=ls)\n",
    "        ax[1,2].plot(range_dict[\"petal_length\"], [arg_val, arg_val], color=col, linestyle=ls)\n",
    "        \n",
    "    plt.close()\n",
    "    return fig, ax"
   ]
  },
  {
   "cell_type": "code",
   "execution_count": null,
   "metadata": {},
   "outputs": [],
   "source": [
    "# Parent\n",
    "\n",
    "fig, ax = decison_tree_seq(obj.head, \n",
    "                           obj.arg_value, \n",
    "                           \"black\", \"-\")\n",
    "fig"
   ]
  },
  {
   "cell_type": "code",
   "execution_count": null,
   "metadata": {},
   "outputs": [],
   "source": [
    "# Child 1\n",
    "\n",
    "fig, ax = decison_tree_seq(obj.children[0].head, \n",
    "                           obj.children[0].arg_value, \n",
    "                           \"red\", \"--\", fig, ax)\n",
    "fig"
   ]
  },
  {
   "cell_type": "code",
   "execution_count": null,
   "metadata": {},
   "outputs": [],
   "source": [
    "# Child 2\n",
    "\n",
    "fig, ax = decison_tree_seq(obj.children[1].head, \n",
    "                           obj.children[1].arg_value, \n",
    "                           \"blue\", \"--\", fig, ax)\n",
    "fig"
   ]
  },
  {
   "cell_type": "code",
   "execution_count": null,
   "metadata": {},
   "outputs": [],
   "source": [
    "# GrandChild 11\n",
    "\n",
    "fig, ax = decison_tree_seq(obj.children[0].children[0].head, \n",
    "                           obj.children[0].children[0].arg_value, \n",
    "                           \"green\", \"-.\", fig, ax)\n",
    "fig"
   ]
  },
  {
   "cell_type": "code",
   "execution_count": null,
   "metadata": {},
   "outputs": [],
   "source": [
    "# GrandChild 12\n",
    "\n",
    "fig, ax = decison_tree_seq(obj.children[0].children[1].head, \n",
    "                           obj.children[0].children[1].arg_value, \n",
    "                           \"magenta\", \"-.\", fig, ax)\n",
    "fig"
   ]
  },
  {
   "cell_type": "code",
   "execution_count": null,
   "metadata": {},
   "outputs": [],
   "source": [
    "# GrandChild 21\n",
    "\n",
    "fig, ax = decison_tree_seq(obj.children[1].children[0].head, \n",
    "                           obj.children[1].children[0].arg_value, \n",
    "                           \"brown\", \"-.\", fig, ax)\n",
    "fig"
   ]
  },
  {
   "cell_type": "code",
   "execution_count": null,
   "metadata": {
    "scrolled": false
   },
   "outputs": [],
   "source": [
    "# GrandChild 22\n",
    "\n",
    "fig, ax = decison_tree_seq(obj.children[1].children[1].head, \n",
    "                           obj.children[1].children[1].arg_value, \n",
    "                           \"cyan\", \"-.\", fig, ax)\n",
    "fig"
   ]
  },
  {
   "cell_type": "code",
   "execution_count": null,
   "metadata": {},
   "outputs": [],
   "source": []
  }
 ],
 "metadata": {
  "@webio": {
   "lastCommId": null,
   "lastKernelId": null
  },
  "kernelspec": {
   "display_name": "Python 3",
   "language": "python",
   "name": "python3"
  },
  "language_info": {
   "codemirror_mode": {
    "name": "ipython",
    "version": 3
   },
   "file_extension": ".py",
   "mimetype": "text/x-python",
   "name": "python",
   "nbconvert_exporter": "python",
   "pygments_lexer": "ipython3",
   "version": "3.6.6"
  }
 },
 "nbformat": 4,
 "nbformat_minor": 2
}
